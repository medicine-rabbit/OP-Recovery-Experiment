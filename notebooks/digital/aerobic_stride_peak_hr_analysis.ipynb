{
 "cells": [
  {
   "cell_type": "markdown",
   "id": "2c860b1a",
   "metadata": {},
   "source": [
    "# 🏃 Aerobic Stride Detection and Peak HR Extraction\n",
    "This notebook demonstrates how to:\n",
    "1. Load and merge Garmin + Stryd .fit files\n",
    "2. Detect high-cadence aerobic stride reps\n",
    "3. Extract peak heart rate from 45-second walk recovery\n",
    "4. Return stride end times and corresponding peak HRs"
   ]
  },
  {
   "cell_type": "code",
   "execution_count": null,
   "id": "dbb3615b",
   "metadata": {},
   "outputs": [],
   "source": [
    "# Step 1: Import tools\n",
    "from api.data_pipeline import generate_merged_df\n",
    "from api.stride_segmentation import detect_stride_end_times\n",
    "from api.stride_metrics import get_peak_hr_after_stride\n",
    "\n",
    "# Load .fit files\n",
    "merged = generate_merged_df('model_queue/garmin.fit', 'model_queue/stryd.fit')"
   ]
  },
  {
   "cell_type": "code",
   "execution_count": null,
   "id": "667d1dd1",
   "metadata": {},
   "outputs": [],
   "source": [
    "# Step 2: Detect stride ends (using cadence doubled internally)\n",
    "stride_ends = detect_stride_end_times(\n",
    "    merged,\n",
    "    cadence_col='garmin_cadence',  # per-leg cadence\n",
    "    min_cadence=95,                # ~190 real cadence\n",
    "    min_duration=1.5               # seconds\n",
    ")\n",
    "print('Stride end times:', stride_ends)"
   ]
  },
  {
   "cell_type": "code",
   "execution_count": null,
   "id": "3ea76a6b",
   "metadata": {},
   "outputs": [],
   "source": [
    "# Step 3: Extract peak HR after each stride\n",
    "peak_hrs = [get_peak_hr_after_stride(merged, t) for t in stride_ends]\n",
    "for t, hr in zip(stride_ends, peak_hrs):\n",
    "    print(f\"Stride end @ {t:.1f}s → Peak HR: {hr} bpm\")"
   ]
  }
 ],
 "metadata": {},
 "nbformat": 4,
 "nbformat_minor": 5
}
